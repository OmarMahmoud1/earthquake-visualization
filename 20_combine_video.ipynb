{
 "cells": [
  {
   "cell_type": "code",
   "execution_count": 3,
   "metadata": {},
   "outputs": [],
   "source": [
    "output = 'output_video_4k60.mp4'\n",
    "frame_dir = 'frames'\n",
    "fps = 60"
   ]
  },
  {
   "cell_type": "code",
   "execution_count": 4,
   "metadata": {},
   "outputs": [],
   "source": [
    "# Too slow...\n",
    "\n",
    "# import glob\n",
    "# import cv2\n",
    "# frames = glob.glob(f\"{frame_dir}/**.png\")\n",
    "# frames.sort()\n",
    "\n",
    "# height, width, channels = cv2.imread(frames[0]).shape\n",
    "# print(f\"Going to combine {len(frames)} frames: {height}x{width}@{fps}fps\")\n",
    "\n",
    "# mp4v_fourcc = cv2.VideoWriter_fourcc(*'mp4v')\n",
    "# out_video = cv2.VideoWriter(output, mp4v_fourcc, fps, (width, height))\n",
    "\n",
    "# for idx, file in enumerate(frames):\n",
    "#     if idx % 100 == 0:\n",
    "#         print(f\"Processing Frame {idx}: {file}\")\n",
    "#     frame = cv2.imread(file)\n",
    "#     out_video.write(frame)\n",
    "\n",
    "# out_video.release()"
   ]
  },
  {
   "cell_type": "code",
   "execution_count": 5,
   "metadata": {},
   "outputs": [
    {
     "name": "stdout",
     "output_type": "stream",
     "text": [
      "ffmpeg -framerate 60 -pattern_type glob -i 'out/frames/*.png' -c:v libx264 -profile:v high -crf 20 -pix_fmt yuv420p output_video_4k60.mp4\n"
     ]
    }
   ],
   "source": [
    "# Render full video\n",
    "cmd = f\"ffmpeg -framerate {fps} -pattern_type glob -i 'out/frames/*.png' -c:v libx264 -profile:v high -crf 20 -pix_fmt yuv420p {output}\"\n",
    "print(cmd)\n",
    "#! {cmd}"
   ]
  },
  {
   "cell_type": "code",
   "execution_count": 6,
   "metadata": {},
   "outputs": [],
   "source": [
    "# Lower to 4k30\n",
    "# ffmpeg -i output_video_4k60.mp4 -filter:v fps=fps=30 output_video_4k30.mp4"
   ]
  },
  {
   "cell_type": "code",
   "execution_count": 7,
   "metadata": {},
   "outputs": [],
   "source": [
    "# Lower to 1080p30\n",
    "# ffmpeg -i output_video_4k30.mp4 -vf scale=-1:1080 output_video_1080p30.mp4"
   ]
  },
  {
   "cell_type": "code",
   "execution_count": 8,
   "metadata": {},
   "outputs": [],
   "source": [
    "# Compress to 1080p30 WEBM (For easier web sharing)\n",
    "# ffmpeg -i output_video_1080p30.mp4 -vcodec libvpx-vp9 -b:v 1M -acodec libvorbis output_video_1080p30.webm"
   ]
  },
  {
   "cell_type": "code",
   "execution_count": null,
   "metadata": {},
   "outputs": [],
   "source": []
  }
 ],
 "metadata": {
  "kernelspec": {
   "display_name": "Data Analytics",
   "language": "python",
   "name": "data-analytics"
  },
  "language_info": {
   "codemirror_mode": {
    "name": "ipython",
    "version": 3
   },
   "file_extension": ".py",
   "mimetype": "text/x-python",
   "name": "python",
   "nbconvert_exporter": "python",
   "pygments_lexer": "ipython3",
   "version": "3.7.3"
  }
 },
 "nbformat": 4,
 "nbformat_minor": 2
}
